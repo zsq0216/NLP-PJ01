{
 "cells": [
  {
   "cell_type": "code",
   "execution_count": 5,
   "id": "1d2e8349",
   "metadata": {},
   "outputs": [],
   "source": [
    "import torch\n",
    "import torch.nn as nn\n",
    "import torch.optim as optim\n",
    "import torch.nn.functional as F\n",
    "from torchtext.datasets import SST\n",
    "from torchtext.data import Field, BucketIterator\n",
    "from torchtext.vocab import GloVe\n",
    "TEXT = Field(lower=True,fix_length=200,batch_first=True)\n",
    "LABEL = Field(sequential=False)\n",
    "train,valid,test = SST.splits(TEXT,LABEL)\n",
    "TEXT.build_vocab(train,vectors=GloVe(name='6B',dim=100),max_size=20000,min_freq=10)\n",
    "LABEL.build_vocab(train)\n",
    "train_iter, valid_iter, test_iter = BucketIterator.splits((train,valid,test),batch_size=16)\n"
   ]
  },
  {
   "cell_type": "code",
   "execution_count": 6,
   "id": "d2f2a0c0",
   "metadata": {},
   "outputs": [],
   "source": [
    "# Define the model architecture\n",
    "class TextClassifier(nn.Module):\n",
    "    def __init__(self, embedding_dim, hidden_dim, output_dim):\n",
    "        super(TextClassifier, self).__init__()\n",
    "        self.embedding = nn.Embedding.from_pretrained(TEXT.vocab.vectors)\n",
    "        self.rnn = nn.RNN(embedding_dim, hidden_dim, num_layers=2, batch_first=True)\n",
    "        self.fc = nn.Linear(hidden_dim, output_dim)\n",
    "    \n",
    "    def forward(self, x):\n",
    "        embedded = self.embedding(x)\n",
    "        _, hidden = self.rnn(embedded)\n",
    "        hidden = hidden[-1]  # Take the last hidden state from all layers\n",
    "        output = self.fc(hidden)\n",
    "        return output"
   ]
  },
  {
   "cell_type": "code",
   "execution_count": 7,
   "id": "57bb7940",
   "metadata": {},
   "outputs": [],
   "source": [
    "# Initialize the model\n",
    "embedding_dim = 100\n",
    "hidden_dim = 128\n",
    "output_dim = len(LABEL.vocab)\n",
    "model = TextClassifier(embedding_dim, hidden_dim, output_dim)\n",
    "\n",
    "# Define the loss function and optimizer\n",
    "criterion = nn.CrossEntropyLoss()\n",
    "optimizer = optim.Adam(model.parameters())\n"
   ]
  },
  {
   "cell_type": "code",
   "execution_count": 8,
   "id": "d30bfaf5",
   "metadata": {},
   "outputs": [],
   "source": [
    "# Training loop\n",
    "def train_model(model, iterator, optimizer, criterion):\n",
    "    model.train()\n",
    "    total_loss = 0.0\n",
    "    total_correct = 0\n",
    "    \n",
    "    for batch in iterator:\n",
    "        optimizer.zero_grad()\n",
    "        text, label = batch.text, batch.label\n",
    "        predictions = model(text)\n",
    "        loss = criterion(predictions, label)\n",
    "        loss.backward()\n",
    "        optimizer.step()\n",
    "        \n",
    "        total_loss += loss.item()\n",
    "        total_correct += (predictions.argmax(1) == label).sum().item()\n",
    "    \n",
    "    return total_loss / len(iterator), total_correct / len(iterator.dataset)\n"
   ]
  },
  {
   "cell_type": "code",
   "execution_count": 9,
   "id": "7d447d18",
   "metadata": {},
   "outputs": [],
   "source": [
    "# Evaluation loop\n",
    "def evaluate_model(model, iterator, criterion):\n",
    "    model.eval()\n",
    "    total_loss = 0.0\n",
    "    total_correct = 0\n",
    "    \n",
    "    with torch.no_grad():\n",
    "        for batch in iterator:\n",
    "            text, label = batch.text, batch.label\n",
    "            predictions = model(text)\n",
    "            loss = criterion(predictions, label)\n",
    "            \n",
    "            total_loss += loss.item()\n",
    "            total_correct += (predictions.argmax(1) == label).sum().item()\n",
    "    \n",
    "    return total_loss / len(iterator), total_correct / len(iterator.dataset)"
   ]
  },
  {
   "cell_type": "code",
   "execution_count": 10,
   "id": "f7a85f62",
   "metadata": {},
   "outputs": [
    {
     "name": "stdout",
     "output_type": "stream",
     "text": [
      "Epoch: 1/10\n",
      "Train Loss: 1.0621 | Train Acc: 0.4082\n",
      "Valid Loss: 1.0677 | Valid Acc: 0.4033\n",
      "\n",
      "Epoch: 2/10\n",
      "Train Loss: 1.0519 | Train Acc: 0.4147\n",
      "Valid Loss: 1.0625 | Valid Acc: 0.3887\n",
      "\n",
      "Epoch: 3/10\n",
      "Train Loss: 1.0507 | Train Acc: 0.4120\n",
      "Valid Loss: 1.0605 | Valid Acc: 0.4033\n",
      "\n",
      "Epoch: 4/10\n",
      "Train Loss: 1.0497 | Train Acc: 0.4163\n",
      "Valid Loss: 1.0609 | Valid Acc: 0.4033\n",
      "\n",
      "Epoch: 5/10\n",
      "Train Loss: 1.0494 | Train Acc: 0.4109\n",
      "Valid Loss: 1.0634 | Valid Acc: 0.4033\n",
      "\n",
      "Epoch: 6/10\n",
      "Train Loss: 1.0596 | Train Acc: 0.4141\n",
      "Valid Loss: 1.0702 | Valid Acc: 0.3887\n",
      "\n",
      "Epoch: 7/10\n",
      "Train Loss: 1.0604 | Train Acc: 0.4123\n",
      "Valid Loss: 1.1208 | Valid Acc: 0.2707\n",
      "\n",
      "Epoch: 8/10\n",
      "Train Loss: 1.0581 | Train Acc: 0.4101\n",
      "Valid Loss: 1.0764 | Valid Acc: 0.4005\n",
      "\n",
      "Epoch: 9/10\n",
      "Train Loss: 1.0565 | Train Acc: 0.4059\n",
      "Valid Loss: 1.0766 | Valid Acc: 0.3933\n",
      "\n",
      "Epoch: 10/10\n",
      "Train Loss: 1.0579 | Train Acc: 0.4108\n",
      "Valid Loss: 1.0655 | Valid Acc: 0.4042\n",
      "\n",
      "Test Loss: 1.0493 | Test Acc: 0.4208\n"
     ]
    }
   ],
   "source": [
    "# Train the model\n",
    "num_epochs = 10\n",
    "\n",
    "for epoch in range(num_epochs):\n",
    "    train_loss, train_acc = train_model(model, train_iter, optimizer, criterion)\n",
    "    valid_loss, valid_acc = evaluate_model(model, valid_iter, criterion)\n",
    "    \n",
    "    print(f'Epoch: {epoch+1}/{num_epochs}')\n",
    "    print(f'Train Loss: {train_loss:.4f} | Train Acc: {train_acc:.4f}')\n",
    "    print(f'Valid Loss: {valid_loss:.4f} | Valid Acc: {valid_acc:.4f}')\n",
    "    print()\n",
    "\n",
    "# Test the model\n",
    "test_loss, test_acc = evaluate_model(model, test_iter, criterion)\n",
    "print(f'Test Loss: {test_loss:.4f} | Test Acc: {test_acc:.4f}')"
   ]
  }
 ],
 "metadata": {
  "kernelspec": {
   "display_name": "pytorch",
   "language": "python",
   "name": "pytorch"
  },
  "language_info": {
   "codemirror_mode": {
    "name": "ipython",
    "version": 3
   },
   "file_extension": ".py",
   "mimetype": "text/x-python",
   "name": "python",
   "nbconvert_exporter": "python",
   "pygments_lexer": "ipython3",
   "version": "3.9.16"
  }
 },
 "nbformat": 4,
 "nbformat_minor": 5
}
