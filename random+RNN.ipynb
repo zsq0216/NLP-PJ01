{
 "cells": [
  {
   "cell_type": "code",
   "execution_count": 1,
   "id": "4ae6c8ab",
   "metadata": {},
   "outputs": [],
   "source": [
    "import torch\n",
    "import torch.nn as nn\n",
    "import torch.optim as optim\n",
    "from torchtext.datasets import SST\n",
    "from torchtext.data import Field, BucketIterator\n",
    "\n",
    "# 定义Fields\n",
    "TEXT = Field(lower=True, fix_length=200, batch_first=True)\n",
    "LABEL = Field(sequential=False)\n",
    "\n",
    "# 加载SST数据集\n",
    "train, valid, test = SST.splits(TEXT, LABEL)\n",
    "\n",
    "# 建立词汇表并初始化词嵌入\n",
    "TEXT.build_vocab(train, max_size=20000, min_freq=10)\n",
    "LABEL.build_vocab(train)"
   ]
  },
  {
   "cell_type": "code",
   "execution_count": 2,
   "id": "1ffb2900",
   "metadata": {},
   "outputs": [],
   "source": [
    "# 定义模型\n",
    "class TextClassificationModel(nn.Module):\n",
    "    def __init__(self, vocab_size, embedding_dim, hidden_dim, num_layers, num_classes):\n",
    "        super(TextClassificationModel, self).__init__()\n",
    "        self.embedding = nn.Embedding(vocab_size, embedding_dim)\n",
    "        self.rnn = nn.RNN(embedding_dim, hidden_dim, num_layers, batch_first=True)\n",
    "        self.pooling = nn.AdaptiveAvgPool1d(1)\n",
    "        self.classifier = nn.Sequential(\n",
    "            nn.Linear(hidden_dim, hidden_dim),\n",
    "            nn.ReLU(),\n",
    "            nn.Linear(hidden_dim, num_classes)\n",
    "        )\n",
    "\n",
    "    def forward(self, x):\n",
    "        embedded = self.embedding(x)\n",
    "        rnn_output, _ = self.rnn(embedded)\n",
    "        pooled = self.pooling(rnn_output.permute(0, 2, 1))\n",
    "        pooled = pooled.view(pooled.size(0), -1)\n",
    "        output = self.classifier(pooled)\n",
    "        return output\n"
   ]
  },
  {
   "cell_type": "code",
   "execution_count": 3,
   "id": "c969160d",
   "metadata": {},
   "outputs": [],
   "source": [
    "# 创建模型、优化器和损失函数\n",
    "model = TextClassificationModel(len(TEXT.vocab), 100, 128, 2, len(LABEL.vocab))\n",
    "optimizer = optim.Adam(model.parameters())\n",
    "criterion = nn.CrossEntropyLoss()"
   ]
  },
  {
   "cell_type": "code",
   "execution_count": 4,
   "id": "71a7c71a",
   "metadata": {},
   "outputs": [],
   "source": [
    "# 创建数据迭代器\n",
    "batch_size = 16\n",
    "train_iter, valid_iter, test_iter = BucketIterator.splits((train, valid, test), batch_size=batch_size, repeat=False)\n",
    "\n",
    "# 训练循环\n",
    "def train_model(model, iterator, optimizer, criterion):\n",
    "    model.train()\n",
    "    for batch in iterator:\n",
    "        optimizer.zero_grad()\n",
    "        predictions = model(batch.text)\n",
    "        loss = criterion(predictions, batch.label)\n",
    "        loss.backward()\n",
    "        optimizer.step()"
   ]
  },
  {
   "cell_type": "code",
   "execution_count": 5,
   "id": "9f164aea",
   "metadata": {},
   "outputs": [],
   "source": [
    "# 验证循环\n",
    "def evaluate_model(model, iterator, criterion):\n",
    "    model.eval()\n",
    "    total_loss = 0\n",
    "    correct = 0\n",
    "    with torch.no_grad():\n",
    "        for batch in iterator:\n",
    "            predictions = model(batch.text)\n",
    "            loss = criterion(predictions, batch.label)\n",
    "            total_loss += loss.item()\n",
    "            predicted_labels = predictions.argmax(1)\n",
    "            correct += (predicted_labels == batch.label).sum().item()\n",
    "    return total_loss / len(iterator), correct / len(iterator.dataset)\n"
   ]
  },
  {
   "cell_type": "code",
   "execution_count": 6,
   "id": "4e879337",
   "metadata": {},
   "outputs": [
    {
     "name": "stdout",
     "output_type": "stream",
     "text": [
      "Epoch: 01\n",
      "\tValidation Loss: 1.067 | Validation Acc: 45.69%\n",
      "Epoch: 02\n",
      "\tValidation Loss: 1.075 | Validation Acc: 38.87%\n",
      "Epoch: 03\n",
      "\tValidation Loss: 1.058 | Validation Acc: 41.05%\n",
      "Epoch: 04\n",
      "\tValidation Loss: 1.060 | Validation Acc: 38.78%\n",
      "Epoch: 05\n",
      "\tValidation Loss: 1.064 | Validation Acc: 40.24%\n",
      "Epoch: 06\n",
      "\tValidation Loss: 1.060 | Validation Acc: 40.24%\n",
      "Epoch: 07\n",
      "\tValidation Loss: 1.059 | Validation Acc: 40.24%\n",
      "Epoch: 08\n",
      "\tValidation Loss: 1.056 | Validation Acc: 42.87%\n",
      "Epoch: 09\n",
      "\tValidation Loss: 1.059 | Validation Acc: 41.60%\n",
      "Epoch: 10\n",
      "\tValidation Loss: 1.058 | Validation Acc: 42.96%\n",
      "Test Loss: 1.034 | Test Acc: 44.84%\n"
     ]
    }
   ],
   "source": [
    "# 训练模型\n",
    "N_EPOCHS = 10\n",
    "for epoch in range(N_EPOCHS):\n",
    "    train_model(model, train_iter, optimizer, criterion)\n",
    "    valid_loss, valid_acc = evaluate_model(model, valid_iter, criterion)\n",
    "    print(f'Epoch: {epoch+1:02}')\n",
    "    print(f'\\tValidation Loss: {valid_loss:.3f} | Validation Acc: {valid_acc*100:.2f}%')\n",
    "\n",
    "# 测试模型\n",
    "test_loss, test_acc = evaluate_model(model, test_iter, criterion)\n",
    "print(f'Test Loss: {test_loss:.3f} | Test Acc: {test_acc*100:.2f}%')"
   ]
  }
 ],
 "metadata": {
  "kernelspec": {
   "display_name": "pytorch",
   "language": "python",
   "name": "pytorch"
  },
  "language_info": {
   "codemirror_mode": {
    "name": "ipython",
    "version": 3
   },
   "file_extension": ".py",
   "mimetype": "text/x-python",
   "name": "python",
   "nbconvert_exporter": "python",
   "pygments_lexer": "ipython3",
   "version": "3.9.16"
  }
 },
 "nbformat": 4,
 "nbformat_minor": 5
}
